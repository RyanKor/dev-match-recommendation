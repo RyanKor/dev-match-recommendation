{
 "cells": [
  {
   "cell_type": "markdown",
   "id": "9f3c8aec",
   "metadata": {},
   "source": [
    "# 문제 개요\n",
    "\n",
    "이 문제는 실제 Programmers 채용 공고 페이지를 방문한 개발자들의 방문/지원 기록을 바탕으로 추천모델을 만들어보는 것이다. 참고로 모든 데이터는 익명화되었음을 밝힌다. 구체적으로 개발자(userID로 표현됨)와 채용공고(jobID로 표현됨)를 보고 개발자가 해당 채용공고에 지원할지 안 할지를 예측하는 Binary Classifier를 만드는 것이다. 이 모델을 만드는데 필요한 feature들은 부가적으로 제공되는 데이터 파일들을 바탕으로 만들어내면 되며 이에 대해서는 뒤의 데이터 세트 섹션에서 설명한다."
   ]
  },
  {
   "cell_type": "markdown",
   "id": "74438cd7",
   "metadata": {},
   "source": [
    "# 데이터 세트 설명\n",
    "\n",
    "이 문제를 해결하는데 필요한 데이터들은 다음과 같은 6개의 파일에 들어있으며 각 파일에 관해 설명한다."
   ]
  },
  {
   "cell_type": "markdown",
   "id": "4ab08d29",
   "metadata": {},
   "source": [
    "## train.csv\n",
    "이 파일의 처음 5줄은 다음과 같다:\n",
    "\n",
    ">userID,jobID,applied\n",
    ">\n",
    ">fe292163d06253b716e9a0099b4,0\n",
    ">\n",
    ">6377fa90618fae77571e8dc90d9,0\n",
    ">\n",
    ">8ec0888a5b04139be0dfe942c7e,1\n",
    ">\n",
    ">f862b39f767d3a1991bdeb2ea14,0\n",
    "\n",
    "첫 번째 칼럼은 개발자의 ID이고 두 번째 칼럼은 구인공고(이후 “잡”이라 표현)의 ID가 된다. 마지막 세 번째 칼럼은 개발자가 해당 구인공고를 보고 지원을 했는지 여부를 나타낸다. 앞서 이야기했듯이 이번에 만들어볼 추천모델은 개발자와 잡의 페어를 보고 지원 여부를 예측하는 것이다. 이를 위해서는 개발자와 잡에 대한 세부 정보가 필요한데 뒤에 나오는 4개의 파일에서 그런 정보들(Features)을 추출할 수 있다."
   ]
  },
  {
   "cell_type": "markdown",
   "id": "67b92c76",
   "metadata": {},
   "source": [
    "## job_tags.csv\n",
    "이 파일의 처음 5줄은 다음과 같다:\n",
    "\n",
    "> jobID,tagID\n",
    ">\n",
    ">320722549d1751cf3f247855f937b982,d38901788c533e8286cb6400b40b386d\n",
    ">\n",
    ">e744f91c29ec99f0e662c9177946c627,3948ead63a9f2944218de038d8934305\n",
    ">\n",
    ">e744f91c29ec99f0e662c9177946c627,0e095e054ee94774d6a496099eb1cf6a\n",
    ">\n",
    ">e820a45f1dfc7b95282d10b6087e11c0,7d771e0e8f3633ab54856925ecdefc5d\n",
    "\n",
    "이 파일은 각 잡의 키워드(tagID)들을 나타낸다. 하나의 잡에는 여러 개의 키워드가 존재할 수 있다. tagID에 해당하는 키워드가 뭔지 알고 싶다면 뒤에서 설명하는 tags.csv를 참조하면 된다."
   ]
  },
  {
   "cell_type": "markdown",
   "id": "30e01474",
   "metadata": {},
   "source": [
    "## user_tags.csv\n",
    "이 파일의 처음 5줄은 다음과 같다:\n",
    "\n",
    ">userID,tagID\n",
    ">\n",
    ">e576423831e043f7928d9ac113abbe6f,82c2559140b95ccda9c6ca4a8b981f1e\n",
    ">\n",
    ">e576423831e043f7928d9ac113abbe6f,2ba8698b79439589fdd2b0f7218d8b07\n",
    ">\n",
    ">e576423831e043f7928d9ac113abbe6f,351b33587c5fdd93bd42ef7ac9995a28\n",
    ">\n",
    ">e576423831e043f7928d9ac113abbe6f,81e5f81db77c596492e6f1a5a792ed53\n",
    "\n",
    "이 파일은 각 개발자가 관심사로 등록한 키워드(tagID)들을 나타낸다. 한 개발자가 여러 개의 키워드를 등록할 수 있다. 앞서 job_tags.csv처럼 tagID에 해당하는 키워드가 뭔지 알고 싶다면 뒤에서 설명하는 tags.csv를 참조하면 된다. 예를 들어 tagID가 1189인 키워드는 JUnit이다."
   ]
  },
  {
   "cell_type": "markdown",
   "id": "e7f61823",
   "metadata": {},
   "source": [
    "## tags.csv\n",
    "이 파일의 처음 5줄은 다음과 같다:\n",
    "\n",
    ">tagID,keyword\n",
    ">\n",
    ">602d1305678a8d5fdb372271e980da6a,Amazon Web Services(AWS)\n",
    ">\n",
    ">e3251075554389fe91d17a794861d47b,Tensorflow\n",
    ">\n",
    ">a1d50185e7426cbb0acad1e6ca74b9aa,Docker\n",
    ">\n",
    ">884d79963bd8bc0ae9b13a1aa71add73,Git\n",
    "\n",
    "앞에서 이 파일은 이미 두 번 설명한 셈인데 tagID에 해당하는 실제 키워드가 무엇인지 기술한다."
   ]
  },
  {
   "cell_type": "markdown",
   "id": "18934b54",
   "metadata": {},
   "source": [
    "## job_companies.csv\n",
    "이 파일의 처음 5줄은 다음과 같다:\n",
    "\n",
    ">companyID,jobID,companySize\n",
    ">\n",
    ">00411460f7c92d2124a67ea0f4cb5f85,e5f6ad6ce374177eef023bf5d0c018b6,\n",
    ">\n",
    ">1905aedab9bf2477edc068a355bba31a,185e65bc40581880c4f2c82958de8cfe,11-50\n",
    ">\n",
    ">89fcd07f20b6785b92134bd6c1d0fa42,0537fb40a68c18da59a35c2bfe1ca554,101-200\n",
    ">\n",
    ">acf4b89d3d503d8252c9c4ba75ddbf6d,b7ee6f5f9aa5cd17ca1aea43ce848496,1-10\n",
    "\n",
    "이 파일은 잡과 관련된 회사가 어디인지 그 정보를 보여주는데 별다른 정보는 없고 회사의 규모를 보여주는 필드가 존재하는데 이 필드는 옵션 필드이다 (값이 존재하지 않을 수 있음). 이 정보를 통해 어떤 잡들이 어느 회사에서 나온 것이고 그 회사의 크기는 어떻게 되는지 알 수 있다."
   ]
  },
  {
   "cell_type": "markdown",
   "id": "12063df2",
   "metadata": {},
   "source": [
    "## test.csv\n",
    "이 파일이 바로 최종 예측 모델의 입력이 되는 파일로 처음 다섯 줄은 다음과 같다:\n",
    "\n",
    ">userID,jobID\n",
    ">\n",
    ">ebaee1af0c501f22ddfe242fc16dae53,352407221afb776e3143e8a1a0577885\n",
    ">\n",
    ">9ab05403ac7808cbfba3da26665f7a9c,96b9bff013acedfb1d140579e2fbeb63\n",
    ">\n",
    ">33349e909eba71677299d2fc97e158b7,58d4d1e7b1e97b258c9ed0b37e02d087\n",
    ">\n",
    ">ac985a9db5faeb44c94a334430ccc241,ccb0989662211f61edae2e26d58ea92f\n",
    "\n",
    "라인마다 userID와 jobID가 있고 이 개발자가 이 잡에 지원을 할지 말지 예측을 하면 된다."
   ]
  },
  {
   "cell_type": "markdown",
   "id": "0dddebf7",
   "metadata": {},
   "source": [
    "# 최종 제출 파일\n",
    "\n",
    "- 최종 제출 파일은 applied 필드를 가지는 csv파일이며 test.csv에서 나오는 user가 지원했을지 여부를 값으로 가져야 한다. (1이면 지원을 나타내고 0이면 지원하지 않음을 나타냄)\n",
    "\n",
    "- 최종 제출 파일의 n번째 줄값은 test.csv의 n번째 줄 사용자에 대한 예측값이어야 한다.\n"
   ]
  },
  {
   "cell_type": "markdown",
   "id": "125d6d93",
   "metadata": {},
   "source": [
    "# 데이터 관련 안내\n",
    "\n",
    "- 작성한 코드의 저작권은 응시자에게 있음\n",
    "\n",
    "- 데이터의 저작권은 그렙에 있으므로 제3자에게 공유하거나 개인적인 용도로 사용할 수 없으며, 외부 블로그 등에 공개 불가\n",
    "\n",
    "- 그렙에서 사용하기 위해 데이터를 제공하는 것이 아니며, 실전 데이터를 제공해서 평가 진행하기 위해 제공함\n",
    "\n",
    "- 모델 학습을 위해 외부 데이터 및 모델(pre-trained model)을 사용 불가\n"
   ]
  },
  {
   "cell_type": "markdown",
   "id": "00384d31",
   "metadata": {},
   "source": [
    "# 채점 방식\n",
    "- Accuracy 100%"
   ]
  },
  {
   "cell_type": "markdown",
   "id": "a187d7aa",
   "metadata": {},
   "source": [
    "# 이 과제에 대한 나의 접근 방법\n",
    "\n",
    "- 우선 각 항목별로 주어진 데이터가 많고, 모델을 훈련시키기 전에 충분한 EDA가 필요해보인다.\n",
    "- 단순한 이진 분류 모델이지만, XGBoost 등 여러가지 모델을 사용해보는 것이 가능한 것으로 보인다.\n",
    "- 모델을 빌드하는데 있어서 많은 부분들을 영화 추천 모델 프로젝트를 참고하면서 진행했다."
   ]
  },
  {
   "cell_type": "code",
   "execution_count": 1,
   "id": "a373ad60",
   "metadata": {},
   "outputs": [],
   "source": [
    "import zipfile\n",
    "import os\n",
    "import pandas as pd\n",
    "import numpy as np\n",
    "\n",
    "from sklearn.model_selection import train_test_split\n",
    "from sklearn.model_selection import StratifiedKFold\n",
    "import xgboost as xgb\n",
    "import matplotlib.pyplot as plt\n",
    "%matplotlib inline\n",
    "import seaborn as sns"
   ]
  },
  {
   "cell_type": "code",
   "execution_count": 2,
   "id": "8c71ccea",
   "metadata": {},
   "outputs": [],
   "source": [
    "# 1. 훈련 데이터 압축 풀어주기\n",
    "local_zip = './train_job.zip'\n",
    "\n",
    "zip_ref = zipfile.ZipFile(local_zip, 'r')\n",
    "zip_ref.extractall('.')\n",
    "zip_ref.close()"
   ]
  },
  {
   "cell_type": "code",
   "execution_count": 3,
   "id": "6df60b3b",
   "metadata": {},
   "outputs": [
    {
     "data": {
      "text/html": [
       "<div>\n",
       "<style scoped>\n",
       "    .dataframe tbody tr th:only-of-type {\n",
       "        vertical-align: middle;\n",
       "    }\n",
       "\n",
       "    .dataframe tbody tr th {\n",
       "        vertical-align: top;\n",
       "    }\n",
       "\n",
       "    .dataframe thead th {\n",
       "        text-align: right;\n",
       "    }\n",
       "</style>\n",
       "<table border=\"1\" class=\"dataframe\">\n",
       "  <thead>\n",
       "    <tr style=\"text-align: right;\">\n",
       "      <th></th>\n",
       "      <th>userID</th>\n",
       "      <th>jobID</th>\n",
       "      <th>applied</th>\n",
       "    </tr>\n",
       "  </thead>\n",
       "  <tbody>\n",
       "    <tr>\n",
       "      <th>0</th>\n",
       "      <td>fe292163d06253b716e9a0099b42031d</td>\n",
       "      <td>15de21c670ae7c3f6f3f1f37029303c9</td>\n",
       "      <td>0</td>\n",
       "    </tr>\n",
       "    <tr>\n",
       "      <th>1</th>\n",
       "      <td>6377fa90618fae77571e8dc90d98d409</td>\n",
       "      <td>55b37c5c270e5d84c793e486d798c01d</td>\n",
       "      <td>0</td>\n",
       "    </tr>\n",
       "    <tr>\n",
       "      <th>2</th>\n",
       "      <td>8ec0888a5b04139be0dfe942c7eb4199</td>\n",
       "      <td>0fcbc61acd0479dc77e3cccc0f5ffca7</td>\n",
       "      <td>1</td>\n",
       "    </tr>\n",
       "    <tr>\n",
       "      <th>3</th>\n",
       "      <td>f862b39f767d3a1991bdeb2ea1401c9c</td>\n",
       "      <td>3b5dca501ee1e6d8cd7b905f4e1bf723</td>\n",
       "      <td>0</td>\n",
       "    </tr>\n",
       "    <tr>\n",
       "      <th>4</th>\n",
       "      <td>cac14930c65d72c16efac2c51a6b7f71</td>\n",
       "      <td>287e03db1d99e0ec2edb90d079e142f3</td>\n",
       "      <td>0</td>\n",
       "    </tr>\n",
       "  </tbody>\n",
       "</table>\n",
       "</div>"
      ],
      "text/plain": [
       "                             userID                             jobID  applied\n",
       "0  fe292163d06253b716e9a0099b42031d  15de21c670ae7c3f6f3f1f37029303c9        0\n",
       "1  6377fa90618fae77571e8dc90d98d409  55b37c5c270e5d84c793e486d798c01d        0\n",
       "2  8ec0888a5b04139be0dfe942c7eb4199  0fcbc61acd0479dc77e3cccc0f5ffca7        1\n",
       "3  f862b39f767d3a1991bdeb2ea1401c9c  3b5dca501ee1e6d8cd7b905f4e1bf723        0\n",
       "4  cac14930c65d72c16efac2c51a6b7f71  287e03db1d99e0ec2edb90d079e142f3        0"
      ]
     },
     "execution_count": 3,
     "metadata": {},
     "output_type": "execute_result"
    }
   ],
   "source": [
    "# 2. train.csv 파일 pandas로 읽어들이기\n",
    "\n",
    "train_all = pd.read_csv(\"./train.csv\")\n",
    "\n",
    "train_all.head()"
   ]
  },
  {
   "cell_type": "code",
   "execution_count": 4,
   "id": "274bd45f",
   "metadata": {},
   "outputs": [
    {
     "data": {
      "text/html": [
       "<div>\n",
       "<style scoped>\n",
       "    .dataframe tbody tr th:only-of-type {\n",
       "        vertical-align: middle;\n",
       "    }\n",
       "\n",
       "    .dataframe tbody tr th {\n",
       "        vertical-align: top;\n",
       "    }\n",
       "\n",
       "    .dataframe thead th {\n",
       "        text-align: right;\n",
       "    }\n",
       "</style>\n",
       "<table border=\"1\" class=\"dataframe\">\n",
       "  <thead>\n",
       "    <tr style=\"text-align: right;\">\n",
       "      <th></th>\n",
       "      <th>jobID</th>\n",
       "      <th>tagID</th>\n",
       "    </tr>\n",
       "  </thead>\n",
       "  <tbody>\n",
       "    <tr>\n",
       "      <th>0</th>\n",
       "      <td>320722549d1751cf3f247855f937b982</td>\n",
       "      <td>d38901788c533e8286cb6400b40b386d</td>\n",
       "    </tr>\n",
       "    <tr>\n",
       "      <th>1</th>\n",
       "      <td>e744f91c29ec99f0e662c9177946c627</td>\n",
       "      <td>3948ead63a9f2944218de038d8934305</td>\n",
       "    </tr>\n",
       "    <tr>\n",
       "      <th>2</th>\n",
       "      <td>e744f91c29ec99f0e662c9177946c627</td>\n",
       "      <td>0e095e054ee94774d6a496099eb1cf6a</td>\n",
       "    </tr>\n",
       "    <tr>\n",
       "      <th>3</th>\n",
       "      <td>e820a45f1dfc7b95282d10b6087e11c0</td>\n",
       "      <td>7d771e0e8f3633ab54856925ecdefc5d</td>\n",
       "    </tr>\n",
       "    <tr>\n",
       "      <th>4</th>\n",
       "      <td>e820a45f1dfc7b95282d10b6087e11c0</td>\n",
       "      <td>6c8dba7d0df1c4a79dd07646be9a26c8</td>\n",
       "    </tr>\n",
       "  </tbody>\n",
       "</table>\n",
       "</div>"
      ],
      "text/plain": [
       "                              jobID                             tagID\n",
       "0  320722549d1751cf3f247855f937b982  d38901788c533e8286cb6400b40b386d\n",
       "1  e744f91c29ec99f0e662c9177946c627  3948ead63a9f2944218de038d8934305\n",
       "2  e744f91c29ec99f0e662c9177946c627  0e095e054ee94774d6a496099eb1cf6a\n",
       "3  e820a45f1dfc7b95282d10b6087e11c0  7d771e0e8f3633ab54856925ecdefc5d\n",
       "4  e820a45f1dfc7b95282d10b6087e11c0  6c8dba7d0df1c4a79dd07646be9a26c8"
      ]
     },
     "execution_count": 4,
     "metadata": {},
     "output_type": "execute_result"
    }
   ],
   "source": [
    "# 3. job_tags 파일 pandas로 읽어들이기\n",
    "\n",
    "job_tags = pd.read_csv('./job_tags.csv')\n",
    "\n",
    "job_tags.head()"
   ]
  },
  {
   "cell_type": "code",
   "execution_count": 5,
   "id": "d8930f09",
   "metadata": {},
   "outputs": [
    {
     "data": {
      "text/html": [
       "<div>\n",
       "<style scoped>\n",
       "    .dataframe tbody tr th:only-of-type {\n",
       "        vertical-align: middle;\n",
       "    }\n",
       "\n",
       "    .dataframe tbody tr th {\n",
       "        vertical-align: top;\n",
       "    }\n",
       "\n",
       "    .dataframe thead th {\n",
       "        text-align: right;\n",
       "    }\n",
       "</style>\n",
       "<table border=\"1\" class=\"dataframe\">\n",
       "  <thead>\n",
       "    <tr style=\"text-align: right;\">\n",
       "      <th></th>\n",
       "      <th>userID</th>\n",
       "      <th>tagID</th>\n",
       "    </tr>\n",
       "  </thead>\n",
       "  <tbody>\n",
       "    <tr>\n",
       "      <th>0</th>\n",
       "      <td>e576423831e043f7928d9ac113abbe6f</td>\n",
       "      <td>82c2559140b95ccda9c6ca4a8b981f1e</td>\n",
       "    </tr>\n",
       "    <tr>\n",
       "      <th>1</th>\n",
       "      <td>e576423831e043f7928d9ac113abbe6f</td>\n",
       "      <td>2ba8698b79439589fdd2b0f7218d8b07</td>\n",
       "    </tr>\n",
       "    <tr>\n",
       "      <th>2</th>\n",
       "      <td>e576423831e043f7928d9ac113abbe6f</td>\n",
       "      <td>351b33587c5fdd93bd42ef7ac9995a28</td>\n",
       "    </tr>\n",
       "    <tr>\n",
       "      <th>3</th>\n",
       "      <td>e576423831e043f7928d9ac113abbe6f</td>\n",
       "      <td>81e5f81db77c596492e6f1a5a792ed53</td>\n",
       "    </tr>\n",
       "    <tr>\n",
       "      <th>4</th>\n",
       "      <td>e576423831e043f7928d9ac113abbe6f</td>\n",
       "      <td>0e095e054ee94774d6a496099eb1cf6a</td>\n",
       "    </tr>\n",
       "  </tbody>\n",
       "</table>\n",
       "</div>"
      ],
      "text/plain": [
       "                             userID                             tagID\n",
       "0  e576423831e043f7928d9ac113abbe6f  82c2559140b95ccda9c6ca4a8b981f1e\n",
       "1  e576423831e043f7928d9ac113abbe6f  2ba8698b79439589fdd2b0f7218d8b07\n",
       "2  e576423831e043f7928d9ac113abbe6f  351b33587c5fdd93bd42ef7ac9995a28\n",
       "3  e576423831e043f7928d9ac113abbe6f  81e5f81db77c596492e6f1a5a792ed53\n",
       "4  e576423831e043f7928d9ac113abbe6f  0e095e054ee94774d6a496099eb1cf6a"
      ]
     },
     "execution_count": 5,
     "metadata": {},
     "output_type": "execute_result"
    }
   ],
   "source": [
    "# 4. user_tags 파일 pandas로 읽어들이기\n",
    "\n",
    "user_tags = pd.read_csv('./user_tags.csv')\n",
    "\n",
    "user_tags.head()"
   ]
  },
  {
   "cell_type": "code",
   "execution_count": 6,
   "id": "b16b2e68",
   "metadata": {},
   "outputs": [
    {
     "data": {
      "text/html": [
       "<div>\n",
       "<style scoped>\n",
       "    .dataframe tbody tr th:only-of-type {\n",
       "        vertical-align: middle;\n",
       "    }\n",
       "\n",
       "    .dataframe tbody tr th {\n",
       "        vertical-align: top;\n",
       "    }\n",
       "\n",
       "    .dataframe thead th {\n",
       "        text-align: right;\n",
       "    }\n",
       "</style>\n",
       "<table border=\"1\" class=\"dataframe\">\n",
       "  <thead>\n",
       "    <tr style=\"text-align: right;\">\n",
       "      <th></th>\n",
       "      <th>tagID</th>\n",
       "      <th>keyword</th>\n",
       "    </tr>\n",
       "  </thead>\n",
       "  <tbody>\n",
       "    <tr>\n",
       "      <th>0</th>\n",
       "      <td>602d1305678a8d5fdb372271e980da6a</td>\n",
       "      <td>Amazon Web Services(AWS)</td>\n",
       "    </tr>\n",
       "    <tr>\n",
       "      <th>1</th>\n",
       "      <td>e3251075554389fe91d17a794861d47b</td>\n",
       "      <td>Tensorflow</td>\n",
       "    </tr>\n",
       "    <tr>\n",
       "      <th>2</th>\n",
       "      <td>a1d50185e7426cbb0acad1e6ca74b9aa</td>\n",
       "      <td>Docker</td>\n",
       "    </tr>\n",
       "    <tr>\n",
       "      <th>3</th>\n",
       "      <td>884d79963bd8bc0ae9b13a1aa71add73</td>\n",
       "      <td>Git</td>\n",
       "    </tr>\n",
       "    <tr>\n",
       "      <th>4</th>\n",
       "      <td>4122cb13c7a474c1976c9706ae36521d</td>\n",
       "      <td>Python</td>\n",
       "    </tr>\n",
       "  </tbody>\n",
       "</table>\n",
       "</div>"
      ],
      "text/plain": [
       "                              tagID                   keyword\n",
       "0  602d1305678a8d5fdb372271e980da6a  Amazon Web Services(AWS)\n",
       "1  e3251075554389fe91d17a794861d47b                Tensorflow\n",
       "2  a1d50185e7426cbb0acad1e6ca74b9aa                    Docker\n",
       "3  884d79963bd8bc0ae9b13a1aa71add73                       Git\n",
       "4  4122cb13c7a474c1976c9706ae36521d                    Python"
      ]
     },
     "execution_count": 6,
     "metadata": {},
     "output_type": "execute_result"
    }
   ],
   "source": [
    "# 5. tags 파일 pandas로 읽어들이기\n",
    "# Distinct하게 tagID가 있는 것은 887개\n",
    "tags = pd.read_csv('./tags.csv')\n",
    "\n",
    "tags.head()"
   ]
  },
  {
   "cell_type": "code",
   "execution_count": 7,
   "id": "d996e09b",
   "metadata": {},
   "outputs": [
    {
     "data": {
      "text/html": [
       "<div>\n",
       "<style scoped>\n",
       "    .dataframe tbody tr th:only-of-type {\n",
       "        vertical-align: middle;\n",
       "    }\n",
       "\n",
       "    .dataframe tbody tr th {\n",
       "        vertical-align: top;\n",
       "    }\n",
       "\n",
       "    .dataframe thead th {\n",
       "        text-align: right;\n",
       "    }\n",
       "</style>\n",
       "<table border=\"1\" class=\"dataframe\">\n",
       "  <thead>\n",
       "    <tr style=\"text-align: right;\">\n",
       "      <th></th>\n",
       "      <th>companyID</th>\n",
       "      <th>jobID</th>\n",
       "      <th>companySize</th>\n",
       "    </tr>\n",
       "  </thead>\n",
       "  <tbody>\n",
       "    <tr>\n",
       "      <th>0</th>\n",
       "      <td>00411460f7c92d2124a67ea0f4cb5f85</td>\n",
       "      <td>e5f6ad6ce374177eef023bf5d0c018b6</td>\n",
       "      <td>NaN</td>\n",
       "    </tr>\n",
       "    <tr>\n",
       "      <th>1</th>\n",
       "      <td>1905aedab9bf2477edc068a355bba31a</td>\n",
       "      <td>185e65bc40581880c4f2c82958de8cfe</td>\n",
       "      <td>11-50</td>\n",
       "    </tr>\n",
       "    <tr>\n",
       "      <th>2</th>\n",
       "      <td>89fcd07f20b6785b92134bd6c1d0fa42</td>\n",
       "      <td>0537fb40a68c18da59a35c2bfe1ca554</td>\n",
       "      <td>101-200</td>\n",
       "    </tr>\n",
       "    <tr>\n",
       "      <th>3</th>\n",
       "      <td>acf4b89d3d503d8252c9c4ba75ddbf6d</td>\n",
       "      <td>b7ee6f5f9aa5cd17ca1aea43ce848496</td>\n",
       "      <td>1-10</td>\n",
       "    </tr>\n",
       "    <tr>\n",
       "      <th>4</th>\n",
       "      <td>fb7b9ffa5462084c5f4e7e85a093e6d7</td>\n",
       "      <td>efe937780e95574250dabe07151bdc23</td>\n",
       "      <td>NaN</td>\n",
       "    </tr>\n",
       "  </tbody>\n",
       "</table>\n",
       "</div>"
      ],
      "text/plain": [
       "                          companyID                             jobID  \\\n",
       "0  00411460f7c92d2124a67ea0f4cb5f85  e5f6ad6ce374177eef023bf5d0c018b6   \n",
       "1  1905aedab9bf2477edc068a355bba31a  185e65bc40581880c4f2c82958de8cfe   \n",
       "2  89fcd07f20b6785b92134bd6c1d0fa42  0537fb40a68c18da59a35c2bfe1ca554   \n",
       "3  acf4b89d3d503d8252c9c4ba75ddbf6d  b7ee6f5f9aa5cd17ca1aea43ce848496   \n",
       "4  fb7b9ffa5462084c5f4e7e85a093e6d7  efe937780e95574250dabe07151bdc23   \n",
       "\n",
       "  companySize  \n",
       "0         NaN  \n",
       "1       11-50  \n",
       "2     101-200  \n",
       "3        1-10  \n",
       "4         NaN  "
      ]
     },
     "execution_count": 7,
     "metadata": {},
     "output_type": "execute_result"
    }
   ],
   "source": [
    "# 6. job_companies 파일 pandas로 읽어들이기\n",
    "\n",
    "job_companies = pd.read_csv('./job_companies.csv')\n",
    "\n",
    "job_companies.head()"
   ]
  },
  {
   "cell_type": "code",
   "execution_count": 8,
   "id": "209ef245",
   "metadata": {},
   "outputs": [
    {
     "data": {
      "text/html": [
       "<div>\n",
       "<style scoped>\n",
       "    .dataframe tbody tr th:only-of-type {\n",
       "        vertical-align: middle;\n",
       "    }\n",
       "\n",
       "    .dataframe tbody tr th {\n",
       "        vertical-align: top;\n",
       "    }\n",
       "\n",
       "    .dataframe thead th {\n",
       "        text-align: right;\n",
       "    }\n",
       "</style>\n",
       "<table border=\"1\" class=\"dataframe\">\n",
       "  <thead>\n",
       "    <tr style=\"text-align: right;\">\n",
       "      <th></th>\n",
       "      <th>userID</th>\n",
       "      <th>jobID</th>\n",
       "    </tr>\n",
       "  </thead>\n",
       "  <tbody>\n",
       "    <tr>\n",
       "      <th>0</th>\n",
       "      <td>ebaee1af0c501f22ddfe242fc16dae53</td>\n",
       "      <td>352407221afb776e3143e8a1a0577885</td>\n",
       "    </tr>\n",
       "    <tr>\n",
       "      <th>1</th>\n",
       "      <td>9ab05403ac7808cbfba3da26665f7a9c</td>\n",
       "      <td>96b9bff013acedfb1d140579e2fbeb63</td>\n",
       "    </tr>\n",
       "    <tr>\n",
       "      <th>2</th>\n",
       "      <td>33349e909eba71677299d2fc97e158b7</td>\n",
       "      <td>58d4d1e7b1e97b258c9ed0b37e02d087</td>\n",
       "    </tr>\n",
       "    <tr>\n",
       "      <th>3</th>\n",
       "      <td>ac985a9db5faeb44c94a334430ccc241</td>\n",
       "      <td>ccb0989662211f61edae2e26d58ea92f</td>\n",
       "    </tr>\n",
       "    <tr>\n",
       "      <th>4</th>\n",
       "      <td>d41e0e6f6f1e29098d9d152511503ab2</td>\n",
       "      <td>4a213d37242bdcad8e7300e202e7caa4</td>\n",
       "    </tr>\n",
       "  </tbody>\n",
       "</table>\n",
       "</div>"
      ],
      "text/plain": [
       "                             userID                             jobID\n",
       "0  ebaee1af0c501f22ddfe242fc16dae53  352407221afb776e3143e8a1a0577885\n",
       "1  9ab05403ac7808cbfba3da26665f7a9c  96b9bff013acedfb1d140579e2fbeb63\n",
       "2  33349e909eba71677299d2fc97e158b7  58d4d1e7b1e97b258c9ed0b37e02d087\n",
       "3  ac985a9db5faeb44c94a334430ccc241  ccb0989662211f61edae2e26d58ea92f\n",
       "4  d41e0e6f6f1e29098d9d152511503ab2  4a213d37242bdcad8e7300e202e7caa4"
      ]
     },
     "execution_count": 8,
     "metadata": {},
     "output_type": "execute_result"
    }
   ],
   "source": [
    "# 7. test 파일 pandas로 읽어들이기\n",
    "\n",
    "test = pd.read_csv(\"./test_job.csv\")\n",
    "\n",
    "test.head()"
   ]
  },
  {
   "cell_type": "markdown",
   "id": "f8ee7923",
   "metadata": {},
   "source": [
    "# 1. EDA 진행하기"
   ]
  },
  {
   "cell_type": "markdown",
   "id": "58680955",
   "metadata": {},
   "source": [
    "## 1 - 1) train.csv 파일의 EDA\n",
    "\n",
    "- 유저들이 확인한 구인 공고 중에 가장 많은 지원이 이뤄진 회사는 어디인가?\n",
    "- userID는 Distinct한 정보만 모여져 있는가? 아니면 한 유저가 여러 회사를 열람한 정보가 모여져 있는가?\n",
    "- 암호화된 태그와 유저 정보, 그리고 기업 정보를 그대로 사용하면 안된다 --> 수치화 필요.\n",
    "- 어떤 특정 스택을 많이 써야 지원이 된다는 식의 연결은 지양되어야함 --> 기업에서 요구하는 스택이 갖춰지면, 지원"
   ]
  },
  {
   "cell_type": "code",
   "execution_count": 9,
   "id": "7fa24236",
   "metadata": {},
   "outputs": [
    {
     "data": {
      "text/plain": [
       "f47330643ae134ca204bf6b2481fec47    820\n",
       "0e095e054ee94774d6a496099eb1cf6a    796\n",
       "c8ba76c279269b1c6bc8a07e38e78fa4    701\n",
       "2ba8698b79439589fdd2b0f7218d8b07    564\n",
       "3948ead63a9f2944218de038d8934305    516\n",
       "                                   ... \n",
       "515ab26c135e92ed8bf3a594d67e4ade      1\n",
       "07042ac7d03d3b9911a00da43ce0079a      1\n",
       "fae0b27c451c728867a567e8c1bb4e53      1\n",
       "9ad6aaed513b73148b7d49f70afcfb32      1\n",
       "d82118376df344b0010f53909b961db3      1\n",
       "Name: tagID, Length: 345, dtype: int64"
      ]
     },
     "execution_count": 9,
     "metadata": {},
     "output_type": "execute_result"
    }
   ],
   "source": [
    "# 유저 별 태그의 수가 가장 많은 것들을 추려보기\n",
    "\n",
    "user_tag_cnt = user_tags[\"tagID\"].value_counts()\n",
    "user_tag_cnt"
   ]
  },
  {
   "cell_type": "code",
   "execution_count": 10,
   "id": "b394dde8",
   "metadata": {},
   "outputs": [
    {
     "data": {
      "text/html": [
       "<div>\n",
       "<style scoped>\n",
       "    .dataframe tbody tr th:only-of-type {\n",
       "        vertical-align: middle;\n",
       "    }\n",
       "\n",
       "    .dataframe tbody tr th {\n",
       "        vertical-align: top;\n",
       "    }\n",
       "\n",
       "    .dataframe thead th {\n",
       "        text-align: right;\n",
       "    }\n",
       "</style>\n",
       "<table border=\"1\" class=\"dataframe\">\n",
       "  <thead>\n",
       "    <tr style=\"text-align: right;\">\n",
       "      <th></th>\n",
       "      <th>tagID</th>\n",
       "      <th>keyword</th>\n",
       "    </tr>\n",
       "  </thead>\n",
       "  <tbody>\n",
       "    <tr>\n",
       "      <th>10</th>\n",
       "      <td>0e095e054ee94774d6a496099eb1cf6a</td>\n",
       "      <td>JavaScript</td>\n",
       "    </tr>\n",
       "    <tr>\n",
       "      <th>15</th>\n",
       "      <td>f47330643ae134ca204bf6b2481fec47</td>\n",
       "      <td>Java</td>\n",
       "    </tr>\n",
       "  </tbody>\n",
       "</table>\n",
       "</div>"
      ],
      "text/plain": [
       "                               tagID     keyword\n",
       "10  0e095e054ee94774d6a496099eb1cf6a  JavaScript\n",
       "15  f47330643ae134ca204bf6b2481fec47        Java"
      ]
     },
     "execution_count": 10,
     "metadata": {},
     "output_type": "execute_result"
    }
   ],
   "source": [
    "# 유저별 가장 많이 태그를 해놓는 기술 스택은 자바스크립트와 자바임\n",
    "\n",
    "tags[(tags[\"tagID\"] == \"f47330643ae134ca204bf6b2481fec47\") | (tags[\"tagID\"] == \"0e095e054ee94774d6a496099eb1cf6a\")]"
   ]
  },
  {
   "cell_type": "code",
   "execution_count": 11,
   "id": "771241c0",
   "metadata": {},
   "outputs": [
    {
     "data": {
      "text/plain": [
       "0e095e054ee94774d6a496099eb1cf6a    219\n",
       "f47330643ae134ca204bf6b2481fec47    197\n",
       "4122cb13c7a474c1976c9706ae36521d    187\n",
       "3948ead63a9f2944218de038d8934305    153\n",
       "c8ba76c279269b1c6bc8a07e38e78fa4    143\n",
       "                                   ... \n",
       "fec87a37cdeec1c6ecf8181c0aa2d3bf      1\n",
       "e92d74ccacdc984afa0c517ad0d557a6      1\n",
       "4079016d940210b4ae9ae7d41c4a2065      1\n",
       "f18a6d1cde4b205199de8729a6637b42      1\n",
       "bb03e43ffe34eeb242a2ee4a4f125e56      1\n",
       "Name: tagID, Length: 240, dtype: int64"
      ]
     },
     "execution_count": 11,
     "metadata": {},
     "output_type": "execute_result"
    }
   ],
   "source": [
    "# 유저가 태그한 기술의 갯수와 기업이 태그한 기술의 갯수 차이가 있음 --> 유저가 태그한 것 중 불필요한 태그들이 있다는 뜻.\n",
    "job_tag_cnt = job_tags[\"tagID\"].value_counts()\n",
    "job_tag_cnt"
   ]
  },
  {
   "cell_type": "code",
   "execution_count": 12,
   "id": "eefe7a11",
   "metadata": {},
   "outputs": [
    {
     "data": {
      "text/html": [
       "<div>\n",
       "<style scoped>\n",
       "    .dataframe tbody tr th:only-of-type {\n",
       "        vertical-align: middle;\n",
       "    }\n",
       "\n",
       "    .dataframe tbody tr th {\n",
       "        vertical-align: top;\n",
       "    }\n",
       "\n",
       "    .dataframe thead th {\n",
       "        text-align: right;\n",
       "    }\n",
       "</style>\n",
       "<table border=\"1\" class=\"dataframe\">\n",
       "  <thead>\n",
       "    <tr style=\"text-align: right;\">\n",
       "      <th></th>\n",
       "      <th>tagID</th>\n",
       "      <th>keyword</th>\n",
       "    </tr>\n",
       "  </thead>\n",
       "  <tbody>\n",
       "    <tr>\n",
       "      <th>10</th>\n",
       "      <td>0e095e054ee94774d6a496099eb1cf6a</td>\n",
       "      <td>JavaScript</td>\n",
       "    </tr>\n",
       "    <tr>\n",
       "      <th>15</th>\n",
       "      <td>f47330643ae134ca204bf6b2481fec47</td>\n",
       "      <td>Java</td>\n",
       "    </tr>\n",
       "  </tbody>\n",
       "</table>\n",
       "</div>"
      ],
      "text/plain": [
       "                               tagID     keyword\n",
       "10  0e095e054ee94774d6a496099eb1cf6a  JavaScript\n",
       "15  f47330643ae134ca204bf6b2481fec47        Java"
      ]
     },
     "execution_count": 12,
     "metadata": {},
     "output_type": "execute_result"
    }
   ],
   "source": [
    "# 대략적으로 기업과 지원자 모두 사용하고자하는 기술 태그 상위가 일치하는 것을 확인할 수 있음.\n",
    "tags[(tags[\"tagID\"] == \"f47330643ae134ca204bf6b2481fec47\") | (tags[\"tagID\"] == \"0e095e054ee94774d6a496099eb1cf6a\")]"
   ]
  },
  {
   "cell_type": "code",
   "execution_count": 13,
   "id": "258c6ae0",
   "metadata": {},
   "outputs": [
    {
     "data": {
      "text/plain": [
       "Text(0, 0.5, '#users')"
      ]
     },
     "execution_count": 13,
     "metadata": {},
     "output_type": "execute_result"
    },
    {
     "data": {
      "image/png": "[encoded data removed]",
      "text/plain": [
       "<Figure size 432x288 with 1 Axes>"
      ]
     },
     "metadata": {
      "needs_background": "light"
     },
     "output_type": "display_data"
    }
   ],
   "source": [
    "# 유저들은 대체로 1 ~ 100개 사이에서 본인의 기술 태그를 언급하고 있음\n",
    "user_tags.groupby(\"userID\").size().sort_values(ascending=False).hist()\n",
    "\n",
    "plt.xlabel(\"#tags per user\")\n",
    "plt.ylabel(\"#users\")"
   ]
  },
  {
   "cell_type": "code",
   "execution_count": 14,
   "id": "ea556a4a",
   "metadata": {},
   "outputs": [
    {
     "data": {
      "text/plain": [
       "Text(0, 0.5, '#jobs')"
      ]
     },
     "execution_count": 14,
     "metadata": {},
     "output_type": "execute_result"
    },
    {
     "data": {
      "image/png": "[encoded data removed]",
      "text/plain": [
       "<Figure size 432x288 with 1 Axes>"
      ]
     },
     "metadata": {
      "needs_background": "light"
     },
     "output_type": "display_data"
    }
   ],
   "source": [
    "# 대체로 기업들은 2 ~ 4개 사이에서 해당 포지션에 필요한 기술 태그를 언급하고 있음.\n",
    "job_tags.groupby(\"jobID\").size().sort_values(ascending=False).hist()\n",
    "\n",
    "plt.xlabel(\"#tags per job\")\n",
    "plt.ylabel(\"#jobs\")"
   ]
  },
  {
   "cell_type": "code",
   "execution_count": 15,
   "id": "db1486ee",
   "metadata": {},
   "outputs": [
    {
     "name": "stderr",
     "output_type": "stream",
     "text": [
      "/opt/conda/lib/python3.8/site-packages/pandas/core/indexing.py:670: SettingWithCopyWarning: \n",
      "A value is trying to be set on a copy of a slice from a DataFrame\n",
      "\n",
      "See the caveats in the documentation: https://pandas.pydata.org/pandas-docs/stable/user_guide/indexing.html#returning-a-view-versus-a-copy\n",
      "  iloc._setitem_with_indexer(indexer, value)\n"
     ]
    }
   ],
   "source": [
    "# user 계정에서 설정되어 있는 각 태그들의 갯수 세기\n",
    "train_all['user_tags'] = 0\n",
    "train_all['company_size'] = 0\n",
    "for i in range(len(train_all)):\n",
    "    train_all['user_tags'].iloc[i] =len(user_tags[user_tags['userID'] == train_all['userID'].iloc[i]])"
   ]
  },
  {
   "cell_type": "code",
   "execution_count": 16,
   "id": "72bbb5bd",
   "metadata": {},
   "outputs": [],
   "source": [
    "def calculate_tags_ratio(userID, jobID):\n",
    "    user_tag_list = []\n",
    "    job_tag_list = []\n",
    "    val = []\n",
    "    user_tag_list = user_tags[user_tags['userID'] == userID ]['tagID'].tolist()\n",
    "    job_tag_list = job_tags[job_tags['jobID'] == jobID ]['tagID'].tolist()\n",
    "    \n",
    "    \n",
    "    for i in job_tag_list:\n",
    "        if i in user_tag_list:\n",
    "            val.append(1)\n",
    "            \n",
    "    return len(val)/len(job_tag_list)"
   ]
  },
  {
   "cell_type": "code",
   "execution_count": 17,
   "id": "2666d628",
   "metadata": {},
   "outputs": [],
   "source": [
    "train_all['coincide_tags'] = 0\n",
    "train_all\n",
    "\n",
    "for i in range(len(train_all)):\n",
    "    train_all['coincide_tags'].iloc[i] = calculate_tags_ratio(train_all['userID'].iloc[i], train_all['jobID'].iloc[i])\n"
   ]
  },
  {
   "cell_type": "code",
   "execution_count": 18,
   "id": "65c9c7c6",
   "metadata": {},
   "outputs": [
    {
     "data": {
      "text/html": [
       "<div>\n",
       "<style scoped>\n",
       "    .dataframe tbody tr th:only-of-type {\n",
       "        vertical-align: middle;\n",
       "    }\n",
       "\n",
       "    .dataframe tbody tr th {\n",
       "        vertical-align: top;\n",
       "    }\n",
       "\n",
       "    .dataframe thead th {\n",
       "        text-align: right;\n",
       "    }\n",
       "</style>\n",
       "<table border=\"1\" class=\"dataframe\">\n",
       "  <thead>\n",
       "    <tr style=\"text-align: right;\">\n",
       "      <th></th>\n",
       "      <th>userID</th>\n",
       "      <th>jobID</th>\n",
       "      <th>user_tags</th>\n",
       "      <th>job_tags_counts</th>\n",
       "      <th>coincide_tags</th>\n",
       "    </tr>\n",
       "  </thead>\n",
       "  <tbody>\n",
       "    <tr>\n",
       "      <th>0</th>\n",
       "      <td>ebaee1af0c501f22ddfe242fc16dae53</td>\n",
       "      <td>352407221afb776e3143e8a1a0577885</td>\n",
       "      <td>143</td>\n",
       "      <td>7</td>\n",
       "      <td>0.428571</td>\n",
       "    </tr>\n",
       "    <tr>\n",
       "      <th>1</th>\n",
       "      <td>9ab05403ac7808cbfba3da26665f7a9c</td>\n",
       "      <td>96b9bff013acedfb1d140579e2fbeb63</td>\n",
       "      <td>48</td>\n",
       "      <td>7</td>\n",
       "      <td>0.142857</td>\n",
       "    </tr>\n",
       "    <tr>\n",
       "      <th>2</th>\n",
       "      <td>33349e909eba71677299d2fc97e158b7</td>\n",
       "      <td>58d4d1e7b1e97b258c9ed0b37e02d087</td>\n",
       "      <td>78</td>\n",
       "      <td>7</td>\n",
       "      <td>0.142857</td>\n",
       "    </tr>\n",
       "    <tr>\n",
       "      <th>3</th>\n",
       "      <td>ac985a9db5faeb44c94a334430ccc241</td>\n",
       "      <td>ccb0989662211f61edae2e26d58ea92f</td>\n",
       "      <td>15</td>\n",
       "      <td>4</td>\n",
       "      <td>0.000000</td>\n",
       "    </tr>\n",
       "    <tr>\n",
       "      <th>4</th>\n",
       "      <td>d41e0e6f6f1e29098d9d152511503ab2</td>\n",
       "      <td>4a213d37242bdcad8e7300e202e7caa4</td>\n",
       "      <td>100</td>\n",
       "      <td>6</td>\n",
       "      <td>0.000000</td>\n",
       "    </tr>\n",
       "    <tr>\n",
       "      <th>...</th>\n",
       "      <td>...</td>\n",
       "      <td>...</td>\n",
       "      <td>...</td>\n",
       "      <td>...</td>\n",
       "      <td>...</td>\n",
       "    </tr>\n",
       "    <tr>\n",
       "      <th>2430</th>\n",
       "      <td>01ed443356f762e9132b58f8c80e131d</td>\n",
       "      <td>26e359e83860db1d11b6acca57d8ea88</td>\n",
       "      <td>82</td>\n",
       "      <td>4</td>\n",
       "      <td>0.000000</td>\n",
       "    </tr>\n",
       "    <tr>\n",
       "      <th>2431</th>\n",
       "      <td>946aa0c612952da8d67dd338a43d5929</td>\n",
       "      <td>c0f168ce8900fa56e57789e2a2f2c9d0</td>\n",
       "      <td>30</td>\n",
       "      <td>3</td>\n",
       "      <td>0.666667</td>\n",
       "    </tr>\n",
       "    <tr>\n",
       "      <th>2432</th>\n",
       "      <td>ce840aa9583592e71f3db26ee6e41703</td>\n",
       "      <td>8065d07da4a77621450aa84fee5656d9</td>\n",
       "      <td>170</td>\n",
       "      <td>4</td>\n",
       "      <td>0.500000</td>\n",
       "    </tr>\n",
       "    <tr>\n",
       "      <th>2433</th>\n",
       "      <td>946aa0c612952da8d67dd338a43d5929</td>\n",
       "      <td>a0160709701140704575d499c997b6ca</td>\n",
       "      <td>30</td>\n",
       "      <td>3</td>\n",
       "      <td>0.333333</td>\n",
       "    </tr>\n",
       "    <tr>\n",
       "      <th>2434</th>\n",
       "      <td>33349e909eba71677299d2fc97e158b7</td>\n",
       "      <td>192fc044e74dffea144f9ac5dc9f3395</td>\n",
       "      <td>78</td>\n",
       "      <td>3</td>\n",
       "      <td>0.000000</td>\n",
       "    </tr>\n",
       "  </tbody>\n",
       "</table>\n",
       "<p>2435 rows × 5 columns</p>\n",
       "</div>"
      ],
      "text/plain": [
       "                                userID                             jobID  \\\n",
       "0     ebaee1af0c501f22ddfe242fc16dae53  352407221afb776e3143e8a1a0577885   \n",
       "1     9ab05403ac7808cbfba3da26665f7a9c  96b9bff013acedfb1d140579e2fbeb63   \n",
       "2     33349e909eba71677299d2fc97e158b7  58d4d1e7b1e97b258c9ed0b37e02d087   \n",
       "3     ac985a9db5faeb44c94a334430ccc241  ccb0989662211f61edae2e26d58ea92f   \n",
       "4     d41e0e6f6f1e29098d9d152511503ab2  4a213d37242bdcad8e7300e202e7caa4   \n",
       "...                                ...                               ...   \n",
       "2430  01ed443356f762e9132b58f8c80e131d  26e359e83860db1d11b6acca57d8ea88   \n",
       "2431  946aa0c612952da8d67dd338a43d5929  c0f168ce8900fa56e57789e2a2f2c9d0   \n",
       "2432  ce840aa9583592e71f3db26ee6e41703  8065d07da4a77621450aa84fee5656d9   \n",
       "2433  946aa0c612952da8d67dd338a43d5929  a0160709701140704575d499c997b6ca   \n",
       "2434  33349e909eba71677299d2fc97e158b7  192fc044e74dffea144f9ac5dc9f3395   \n",
       "\n",
       "      user_tags  job_tags_counts  coincide_tags  \n",
       "0           143                7       0.428571  \n",
       "1            48                7       0.142857  \n",
       "2            78                7       0.142857  \n",
       "3            15                4       0.000000  \n",
       "4           100                6       0.000000  \n",
       "...         ...              ...            ...  \n",
       "2430         82                4       0.000000  \n",
       "2431         30                3       0.666667  \n",
       "2432        170                4       0.500000  \n",
       "2433         30                3       0.333333  \n",
       "2434         78                3       0.000000  \n",
       "\n",
       "[2435 rows x 5 columns]"
      ]
     },
     "execution_count": 18,
     "metadata": {},
     "output_type": "execute_result"
    }
   ],
   "source": [
    "def set_df(df,user_tags,job_tags):\n",
    "    \n",
    "    df['user_tags'] = 0\n",
    "    df['job_tags_counts'] = 0\n",
    "    df['coincide_tags'] = 0\n",
    "    for i in range(len(df)):\n",
    "        df['user_tags'].iloc[i] =len( user_tags[user_tags['userID'] == df['userID'].iloc[i]])\n",
    "        df['job_tags_counts'].iloc[i] =len( job_tags[job_tags['jobID'] == df['jobID'].iloc[i]])\n",
    "        df['coincide_tags'].iloc[i] = calculate_tags_ratio(df['userID'].iloc[i], df['jobID'].iloc[i])\n",
    "        \n",
    "    return df\n",
    "\n",
    "a = set_df(test,user_tags,job_tags)\n",
    "a"
   ]
  },
  {
   "cell_type": "code",
   "execution_count": 19,
   "id": "135edd87",
   "metadata": {},
   "outputs": [],
   "source": [
    "X = train_all[['user_tags','coincide_tags']]\n",
    "y = train_all[['applied']]\n",
    "\n",
    "test_df_X = test[['user_tags','coincide_tags']]"
   ]
  },
  {
   "cell_type": "code",
   "execution_count": 20,
   "id": "59d39069",
   "metadata": {},
   "outputs": [],
   "source": [
    "X_train, X_test, y_train, y_test = train_test_split(X , y , test_size = 0.2, random_state = 42)"
   ]
  },
  {
   "cell_type": "code",
   "execution_count": 21,
   "id": "f3b40535",
   "metadata": {},
   "outputs": [
    {
     "name": "stderr",
     "output_type": "stream",
     "text": [
      "/opt/conda/lib/python3.8/site-packages/sklearn/preprocessing/_label.py:235: DataConversionWarning: A column-vector y was passed when a 1d array was expected. Please change the shape of y to (n_samples, ), for example using ravel().\n",
      "  y = column_or_1d(y, warn=True)\n",
      "/opt/conda/lib/python3.8/site-packages/sklearn/preprocessing/_label.py:268: DataConversionWarning: A column-vector y was passed when a 1d array was expected. Please change the shape of y to (n_samples, ), for example using ravel().\n",
      "  y = column_or_1d(y, warn=True)\n"
     ]
    },
    {
     "name": "stdout",
     "output_type": "stream",
     "text": [
      "[0]\tvalidation_0-error:0.12\n",
      "Will train until validation_0-error hasn't improved in 100 rounds.\n",
      "[5]\tvalidation_0-error:0.120833\n",
      "[10]\tvalidation_0-error:0.121667\n",
      "[15]\tvalidation_0-error:0.121667\n",
      "[20]\tvalidation_0-error:0.121667\n",
      "[25]\tvalidation_0-error:0.120833\n",
      "[30]\tvalidation_0-error:0.120833\n",
      "[35]\tvalidation_0-error:0.120833\n",
      "[40]\tvalidation_0-error:0.12\n",
      "[45]\tvalidation_0-error:0.120833\n",
      "[50]\tvalidation_0-error:0.120833\n",
      "[55]\tvalidation_0-error:0.120833\n",
      "[60]\tvalidation_0-error:0.120833\n",
      "[65]\tvalidation_0-error:0.120833\n",
      "[70]\tvalidation_0-error:0.120833\n",
      "[75]\tvalidation_0-error:0.120833\n",
      "[80]\tvalidation_0-error:0.120833\n",
      "[85]\tvalidation_0-error:0.120833\n",
      "[90]\tvalidation_0-error:0.120833\n",
      "[95]\tvalidation_0-error:0.120833\n",
      "[100]\tvalidation_0-error:0.120833\n",
      "Stopping. Best iteration:\n",
      "[0]\tvalidation_0-error:0.12\n",
      "\n"
     ]
    },
    {
     "data": {
      "text/plain": [
       "XGBClassifier(base_score=0.5, booster='gbtree', colsample_bylevel=0.9,\n",
       "              colsample_bynode=1, colsample_bytree=0.8, gamma=0,\n",
       "              learning_rate=0.1, max_delta_step=0, max_depth=10,\n",
       "              min_child_weight=3, missing=None, n_estimators=150, n_jobs=1,\n",
       "              nthread=4, objective='binary:logistic', random_state=0,\n",
       "              reg_alpha=0, reg_lambda=1, scale_pos_weight=1, seed=None,\n",
       "              silent=None, subsample=1, verbosity=1)"
      ]
     },
     "execution_count": 21,
     "metadata": {},
     "output_type": "execute_result"
    }
   ],
   "source": [
    "model=xgb.XGBClassifier(booster='gbtree', \n",
    "                    colsample_bylevel=0.9, \n",
    "                    colsample_bytree=0.8, \n",
    "                    gamma=0, # default\n",
    "                    max_depth=10,\n",
    "                    min_child_weight=3, \n",
    "                    n_estimators=150, \n",
    "                    nthread=4, \n",
    "                    objective='binary:logistic', \n",
    "                    )\n",
    "\n",
    "model.fit(X_train,y_train, eval_set=[(X_test,y_test)], early_stopping_rounds=100, verbose=5)"
   ]
  },
  {
   "cell_type": "code",
   "execution_count": 22,
   "id": "82bcfc0d",
   "metadata": {},
   "outputs": [
    {
     "data": {
      "text/plain": [
       "0.88"
      ]
     },
     "execution_count": 22,
     "metadata": {},
     "output_type": "execute_result"
    }
   ],
   "source": [
    "model.score(X_test,y_test)"
   ]
  },
  {
   "cell_type": "code",
   "execution_count": 23,
   "id": "b77bf8b8",
   "metadata": {},
   "outputs": [],
   "source": [
    "test_df_y = model.predict(test_df_X)"
   ]
  },
  {
   "cell_type": "code",
   "execution_count": 24,
   "id": "5d4f0f49",
   "metadata": {},
   "outputs": [
    {
     "data": {
      "text/plain": [
       "<matplotlib.axes._subplots.AxesSubplot at 0x7eff6573d0a0>"
      ]
     },
     "execution_count": 24,
     "metadata": {},
     "output_type": "execute_result"
    },
    {
     "data": {
      "image/png": "[encoded data removed]",
      "text/plain": [
       "<Figure size 360x360 with 1 Axes>"
      ]
     },
     "metadata": {
      "needs_background": "light"
     },
     "output_type": "display_data"
    }
   ],
   "source": [
    "from xgboost import plot_importance\n",
    "\n",
    "fig, ax = plt.subplots(figsize=(5, 5))\n",
    "plot_importance(model, ax=ax)"
   ]
  },
  {
   "cell_type": "code",
   "execution_count": 25,
   "id": "7558935b",
   "metadata": {},
   "outputs": [],
   "source": [
    "result = pd.DataFrame(test_df_y)"
   ]
  },
  {
   "cell_type": "code",
   "execution_count": 26,
   "id": "3ca5d944",
   "metadata": {},
   "outputs": [
    {
     "data": {
      "text/html": [
       "<div>\n",
       "<style scoped>\n",
       "    .dataframe tbody tr th:only-of-type {\n",
       "        vertical-align: middle;\n",
       "    }\n",
       "\n",
       "    .dataframe tbody tr th {\n",
       "        vertical-align: top;\n",
       "    }\n",
       "\n",
       "    .dataframe thead th {\n",
       "        text-align: right;\n",
       "    }\n",
       "</style>\n",
       "<table border=\"1\" class=\"dataframe\">\n",
       "  <thead>\n",
       "    <tr style=\"text-align: right;\">\n",
       "      <th></th>\n",
       "      <th>0</th>\n",
       "    </tr>\n",
       "  </thead>\n",
       "  <tbody>\n",
       "    <tr>\n",
       "      <th>0</th>\n",
       "      <td>0</td>\n",
       "    </tr>\n",
       "    <tr>\n",
       "      <th>1</th>\n",
       "      <td>0</td>\n",
       "    </tr>\n",
       "    <tr>\n",
       "      <th>2</th>\n",
       "      <td>0</td>\n",
       "    </tr>\n",
       "    <tr>\n",
       "      <th>3</th>\n",
       "      <td>0</td>\n",
       "    </tr>\n",
       "    <tr>\n",
       "      <th>4</th>\n",
       "      <td>0</td>\n",
       "    </tr>\n",
       "    <tr>\n",
       "      <th>...</th>\n",
       "      <td>...</td>\n",
       "    </tr>\n",
       "    <tr>\n",
       "      <th>2430</th>\n",
       "      <td>0</td>\n",
       "    </tr>\n",
       "    <tr>\n",
       "      <th>2431</th>\n",
       "      <td>0</td>\n",
       "    </tr>\n",
       "    <tr>\n",
       "      <th>2432</th>\n",
       "      <td>0</td>\n",
       "    </tr>\n",
       "    <tr>\n",
       "      <th>2433</th>\n",
       "      <td>0</td>\n",
       "    </tr>\n",
       "    <tr>\n",
       "      <th>2434</th>\n",
       "      <td>0</td>\n",
       "    </tr>\n",
       "  </tbody>\n",
       "</table>\n",
       "<p>2435 rows × 1 columns</p>\n",
       "</div>"
      ],
      "text/plain": [
       "      0\n",
       "0     0\n",
       "1     0\n",
       "2     0\n",
       "3     0\n",
       "4     0\n",
       "...  ..\n",
       "2430  0\n",
       "2431  0\n",
       "2432  0\n",
       "2433  0\n",
       "2434  0\n",
       "\n",
       "[2435 rows x 1 columns]"
      ]
     },
     "execution_count": 26,
     "metadata": {},
     "output_type": "execute_result"
    }
   ],
   "source": [
    "test_df = pd.read_csv(\"./sample_output_job.csv\")\n",
    "# test_df\n",
    "test_df = result\n",
    "test_df"
   ]
  },
  {
   "cell_type": "code",
   "execution_count": 27,
   "id": "cbaa34a8",
   "metadata": {},
   "outputs": [],
   "source": [
    "test_df.to_csv('recommendation.csv', index=False)"
   ]
  },
  {
   "cell_type": "code",
   "execution_count": null,
   "id": "519e4ecc",
   "metadata": {},
   "outputs": [],
   "source": []
  }
 ],
 "metadata": {
  "kernelspec": {
   "display_name": "Python 3 (ipykernel)",
   "language": "python",
   "name": "python3"
  },
  "language_info": {
   "codemirror_mode": {
    "name": "ipython",
    "version": 3
   },
   "file_extension": ".py",
   "mimetype": "text/x-python",
   "name": "python",
   "nbconvert_exporter": "python",
   "pygments_lexer": "ipython3",
   "version": "3.8.10"
  }
 },
 "nbformat": 4,
 "nbformat_minor": 5
}
